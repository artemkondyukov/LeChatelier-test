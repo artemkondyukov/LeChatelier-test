{
 "cells": [
  {
   "cell_type": "code",
   "execution_count": 4,
   "metadata": {
    "collapsed": true
   },
   "outputs": [],
   "source": [
    "import json\n",
    "from matplotlib import pyplot as plt\n",
    "from rdkit import Chem\n",
    "from rdkit.Chem import Draw\n",
    "\n",
    "%matplotlib inline"
   ]
  },
  {
   "cell_type": "code",
   "execution_count": 22,
   "metadata": {
    "collapsed": true
   },
   "outputs": [],
   "source": [
    "nitric_acid = \"O[N+](=O)[O-]\"\n",
    "ammonia = \"N\"\n",
    "aniline = \"c1ccc(N)cc1\"\n",
    "hydrogen = \"[H][H]\"\n",
    "hydrazine = \"NN\"\n",
    "chlorine = \"ClCl\"\n",
    "ethyl_alcohol = \"CCO\"\n",
    "isopropyl_alcohol = \"CC(O)C\"\n",
    "acetic_acid = \"CC(=O)O\"\n",
    "phenol = \"c1cc(O)ccc1\"\n",
    "diethyl_ether = \"CCOCC\"\n",
    "dimethyl_ether = \"COC\""
   ]
  },
  {
   "cell_type": "code",
   "execution_count": 23,
   "metadata": {
    "collapsed": true
   },
   "outputs": [],
   "source": [
    "ar_nu = \"aromatic nucleophilic substitution\"\n",
    "ar_el = \"aromatic electrophilic substitution\""
   ]
  },
  {
   "cell_type": "code",
   "execution_count": 88,
   "metadata": {
    "collapsed": true
   },
   "outputs": [],
   "source": [
    "ewgs = [\n",
    "    \"[N+](=O)[O-]\", \"C(=O)CC\", \"C(=O)NC\", \n",
    "    \"C(F)(F)F\", \"C(Cl)(Cl)(Cl)\", \"C#N\", \"[N+](C)(C)C\",\n",
    "    \"OS(=O)=O\", \"OS(=O)(=O)C\"\n",
    "]\n",
    "\n",
    "edgs = [\n",
    "    \"N\", \"N(C)C\", \"C(C)(C)C\", \"O\", \"NC(=O)CC\",\n",
    "    \"S\", \"S(C)\"\n",
    "]\n",
    "\n",
    "nuc_ins = [\n",
    "    \"N\", ethyl_alcohol, isopropyl_alcohol, \"N(CC)CC\", \"N(C)C\", \"CN\"\n",
    "]\n",
    "\n",
    "nuc_acs = [\n",
    "    \"N\", \"OCC\", \"OC(C)C\", \"N(CC)CC\", \"N(C)C\", \"NC\"\n",
    "]\n",
    "\n",
    "leaving_groups = [\"Cl\", \"F\", \"OS(=O)=O\", \"OS(=O)(=O)C\"]"
   ]
  },
  {
   "cell_type": "code",
   "execution_count": 284,
   "metadata": {
    "collapsed": true
   },
   "outputs": [],
   "source": [
    "tests = []"
   ]
  },
  {
   "cell_type": "code",
   "execution_count": 285,
   "metadata": {
    "collapsed": true
   },
   "outputs": [],
   "source": [
    "# Nucleophilic substitution doesn't appear, leaving group in meta- position wrt ewg\n",
    "\n",
    "for leaving_group in leaving_groups:\n",
    "    for ewg in ewgs:\n",
    "        for nuc_in, nuc_ac in zip(nuc_ins, nuc_acs):\n",
    "            reagents = [\"c1ccc({})cc1{}\".format(ewg, leaving_group), nuc_in]\n",
    "            product = \"c1ccc({})cc1{}\".format(ewg, nuc_ac)\n",
    "            paths = []\n",
    "            tests.append({\n",
    "                    \"reagents\": reagents,\n",
    "                    \"product\": product,\n",
    "                    \"paths\": paths\n",
    "                })"
   ]
  },
  {
   "cell_type": "code",
   "execution_count": 286,
   "metadata": {
    "collapsed": true
   },
   "outputs": [],
   "source": [
    "# Nucleophilic substitution appears in ortho- position\n",
    "\n",
    "for leaving_group in leaving_groups:\n",
    "    for ewg in ewgs:\n",
    "        for nuc_in, nuc_ac in zip(nuc_ins, nuc_acs):\n",
    "            reagents = [\"c1cccc({})c1{}\".format(ewg, leaving_group), nuc_in]\n",
    "            pf = \"c1cccc({})c1{}\"\n",
    "            product = pf.format(ewg, nuc_ac)\n",
    "            \n",
    "            # If reaction could have two ways\n",
    "            # We usually cannot control, which way it'll take\n",
    "            # However, in symmetrical case, we can rely on it\n",
    "            if ewg in leaving_groups and \\\n",
    "                Chem.CanonSmiles(product) != \\\n",
    "                Chem.CanonSmiles(pf.format(nuc_ac, leaving_group)):\n",
    "                    \n",
    "                paths = []\n",
    "            \n",
    "            else:\n",
    "                paths = [[ar_nu]]\n",
    "            tests.append({\n",
    "                    \"reagents\": reagents,\n",
    "                    \"product\": product,\n",
    "                    \"paths\": paths\n",
    "                })"
   ]
  },
  {
   "cell_type": "code",
   "execution_count": 287,
   "metadata": {
    "collapsed": true
   },
   "outputs": [],
   "source": [
    "# Nucleophilic substitution appears in ortho- position\n",
    "\n",
    "for leaving_group in leaving_groups:\n",
    "    for ewg in ewgs:\n",
    "        for nuc_in, nuc_ac in zip(nuc_ins, nuc_acs):\n",
    "            reagents = [\"c1({})ccccc1{}\".format(ewg, leaving_group), nuc_in]\n",
    "            pf = \"c1({})ccccc1{}\"\n",
    "            product = pf.format(ewg, nuc_ac)\n",
    "            \n",
    "            # If reaction could have two ways\n",
    "            # We usually cannot control, which way it'll take\n",
    "            # However, in symmetrical case, we can rely on it\n",
    "            if ewg in leaving_groups and \\\n",
    "                Chem.CanonSmiles(product) != \\\n",
    "                Chem.CanonSmiles(pf.format(nuc_ac, leaving_group)):\n",
    "                    \n",
    "                paths = []\n",
    "            \n",
    "            else:\n",
    "                paths = [[ar_nu]]\n",
    "            tests.append({\n",
    "                    \"reagents\": reagents,\n",
    "                    \"product\": product,\n",
    "                    \"paths\": paths\n",
    "                })"
   ]
  },
  {
   "cell_type": "code",
   "execution_count": 288,
   "metadata": {
    "collapsed": true
   },
   "outputs": [],
   "source": [
    "# Nucleophilic substitution appears in para- position\n",
    "\n",
    "for leaving_group in leaving_groups:\n",
    "    for ewg in ewgs:\n",
    "        for nuc_in, nuc_ac in zip(nuc_ins, nuc_acs):\n",
    "            reagents = [\"c1cc({})ccc1{}\".format(ewg, leaving_group), nuc_in]\n",
    "            pf = \"c1cc({})ccc1{}\"\n",
    "            product = pf.format(ewg, nuc_ac)\n",
    "            \n",
    "            # If reaction could have two ways\n",
    "            # We usually cannot control, which way it'll take\n",
    "            # However, in symmetrical case, we can rely on it\n",
    "            if ewg in leaving_groups and \\\n",
    "                Chem.CanonSmiles(product) != \\\n",
    "                Chem.CanonSmiles(pf.format(nuc_ac, leaving_group)):\n",
    "                paths = []\n",
    "            \n",
    "            else:\n",
    "                paths = [[ar_nu]]\n",
    "            tests.append({\n",
    "                    \"reagents\": reagents,\n",
    "                    \"product\": product,\n",
    "                    \"paths\": paths\n",
    "                })"
   ]
  },
  {
   "cell_type": "code",
   "execution_count": 289,
   "metadata": {
    "collapsed": true
   },
   "outputs": [],
   "source": [
    "# Nucleophilic substitution doesn't appear with EDG in ortho- position\n",
    "\n",
    "for leaving_group in leaving_groups:\n",
    "    for edg in edgs:\n",
    "        for nuc_in, nuc_ac in zip(nuc_ins, nuc_acs):\n",
    "            reagents = [\"c1({})ccccc1{}\".format(edg, leaving_group), nuc_in]\n",
    "            product = \"c1({})ccccc1{}\".format(edg, nuc_ac)\n",
    "            paths = []\n",
    "            tests.append({\n",
    "                    \"reagents\": reagents,\n",
    "                    \"product\": product,\n",
    "                    \"paths\": paths\n",
    "                })"
   ]
  },
  {
   "cell_type": "code",
   "execution_count": 290,
   "metadata": {
    "collapsed": true
   },
   "outputs": [],
   "source": [
    "# Nucleophilic substitution doesn't appear with EDG in para- position\n",
    "\n",
    "for leaving_group in leaving_groups:\n",
    "    for edg in edgs:\n",
    "        for nuc_in, nuc_ac in zip(nuc_ins, nuc_acs):\n",
    "            reagents = [\"c1cc({})ccc1{}\".format(edg, leaving_group), nuc_in]\n",
    "            product = \"c1cc({})ccc1{}\".format(edg, nuc_ac)\n",
    "            paths = []\n",
    "            tests.append({\n",
    "                    \"reagents\": reagents,\n",
    "                    \"product\": product,\n",
    "                    \"paths\": paths\n",
    "                })"
   ]
  },
  {
   "cell_type": "code",
   "execution_count": 291,
   "metadata": {
    "collapsed": true
   },
   "outputs": [],
   "source": [
    "# Nucleophilic substitution doesn't appear with EDG in meta- position\n",
    "\n",
    "for leaving_group in leaving_groups:\n",
    "    for edg in edgs:\n",
    "        for nuc_in, nuc_ac in zip(nuc_ins, nuc_acs):\n",
    "            reagents = [\"c1c({})cccc1{}\".format(edg, leaving_group), nuc_in]\n",
    "            product = \"c1c({})cccc1{}\".format(edg, nuc_ac)\n",
    "            paths = []\n",
    "            tests.append({\n",
    "                    \"reagents\": reagents,\n",
    "                    \"product\": product,\n",
    "                    \"paths\": paths\n",
    "                })"
   ]
  },
  {
   "cell_type": "code",
   "execution_count": 292,
   "metadata": {
    "collapsed": true
   },
   "outputs": [],
   "source": [
    "# Nucleophilic substitution doesn't appear with opposite effects (donation and acception of electrons), ortho- ortho-\n",
    "\n",
    "for leaving_group in leaving_groups:\n",
    "    for ewg in ewgs:\n",
    "        for edg in edgs:\n",
    "            for nuc_in, nuc_ac in zip(nuc_ins, nuc_acs):\n",
    "                reagents = [\"c({})1cccc({})c1{}\".format(ewg, edg, leaving_group), nuc_in]\n",
    "                product = \"c({})1cccc({})c1{}\".format(ewg, edg, nuc_ac)\n",
    "                paths = []\n",
    "                tests.append({\n",
    "                        \"reagents\": reagents,\n",
    "                        \"product\": product,\n",
    "                        \"paths\": paths\n",
    "                    })"
   ]
  },
  {
   "cell_type": "code",
   "execution_count": 293,
   "metadata": {
    "collapsed": true
   },
   "outputs": [],
   "source": [
    "# Nucleophilic substitution doesn't appear with opposite effects (donation and acception of electrons), ortho- para-\n",
    "\n",
    "for leaving_group in leaving_groups:\n",
    "    for ewg in ewgs:\n",
    "        for edg in edgs:\n",
    "            for nuc_in, nuc_ac in zip(nuc_ins, nuc_acs):\n",
    "                reagents = [\"c({})1cc({})ccc1{}\".format(ewg, edg, leaving_group), nuc_in]\n",
    "                product = \"c({})1cc({})ccc1{}\".format(ewg, edg, nuc_ac)\n",
    "                paths = []\n",
    "                tests.append({\n",
    "                        \"reagents\": reagents,\n",
    "                        \"product\": product,\n",
    "                        \"paths\": paths\n",
    "                    })"
   ]
  },
  {
   "cell_type": "code",
   "execution_count": 294,
   "metadata": {
    "collapsed": false
   },
   "outputs": [],
   "source": [
    "# Nucleophilic substitution appears with non-opposite effects (donation and acception of electrons), ortho- meta-\n",
    "\n",
    "for leaving_group in leaving_groups:\n",
    "    for ewg in ewgs:\n",
    "        for edg in edgs:\n",
    "            for nuc_in, nuc_ac in zip(nuc_ins, nuc_acs):\n",
    "                reagents = [\"c({})1ccc({})cc1{}\".format(ewg, edg, leaving_group), nuc_in]\n",
    "                pf = \"c({})1ccc({})cc1{}\"\n",
    "                product = pf.format(ewg, edg, nuc_ac)\n",
    "                \n",
    "                # Even if leaving group is electron withdrawing,\n",
    "                # Reaction cannot process in a way to substitute EWG\n",
    "                # Because of EDG in para-position\n",
    "\n",
    "                paths = [[ar_nu]]\n",
    "                tests.append({\n",
    "                        \"reagents\": reagents,\n",
    "                        \"product\": product,\n",
    "                        \"paths\": paths\n",
    "                    })"
   ]
  },
  {
   "cell_type": "code",
   "execution_count": 295,
   "metadata": {
    "collapsed": false
   },
   "outputs": [],
   "source": [
    "# Nucleophilic substitution appears with non-opposite effects (donation and acception of electrons), para- meta-\n",
    "\n",
    "for leaving_group in leaving_groups:\n",
    "    for ewg in ewgs:\n",
    "        for edg in edgs:\n",
    "            for nuc_in, nuc_ac in zip(nuc_ins, nuc_acs):\n",
    "                reagents = [\"c1cc({})c({})cc1{}\".format(ewg, edg, leaving_group), nuc_in]\n",
    "                pf = \"c1cc({})c({})cc1{}\"\n",
    "                product = pf.format(ewg, edg, nuc_ac)\n",
    "                \n",
    "                # Even if leaving group is electron withdrawing,\n",
    "                # Reaction cannot process in a way to substitute EWG\n",
    "                # Because of EDG in para-position\n",
    "\n",
    "                paths = [[ar_nu]]\n",
    "                tests.append({\n",
    "                        \"reagents\": reagents,\n",
    "                        \"product\": product,\n",
    "                        \"paths\": paths\n",
    "                    })"
   ]
  },
  {
   "cell_type": "code",
   "execution_count": 296,
   "metadata": {
    "collapsed": true
   },
   "outputs": [],
   "source": [
    "# Nucleophilic substitution appears with coordinate effects (acception and acception of electrons), ortho- ortho-\n",
    "\n",
    "for leaving_group in leaving_groups:\n",
    "    for ewg1 in ewgs:\n",
    "        for ewg2 in ewgs:\n",
    "            for nuc_in, nuc_ac in zip(nuc_ins, nuc_acs):\n",
    "                reagents = [\"c({})1cccc({})c1{}\".format(ewg1, ewg2, leaving_group), nuc_in]\n",
    "                pf = \"c({})1cccc({})c1{}\"\n",
    "                product = pf.format(ewg1, ewg2, nuc_ac)\n",
    "\n",
    "                # If reaction could have two ways\n",
    "                # We usually cannot control, which way it'll take\n",
    "                # However, in symmetrical case, we can rely on it\n",
    "                if ewg1 in leaving_groups and \\\n",
    "                    leaving_group in ewgs and \\\n",
    "                    Chem.CanonSmiles(product) != \\\n",
    "                    Chem.CanonSmiles(pf.format(nuc_ac, ewg2, leaving_group)):\n",
    "                        \n",
    "                    paths = []\n",
    "                    \n",
    "                elif ewg2 in leaving_groups and \\\n",
    "                    leaving_group in ewgs and \\\n",
    "                    Chem.CanonSmiles(product) != \\\n",
    "                    Chem.CanonSmiles(pf.format(ewg1, nuc_ac, leaving_group)):\n",
    "                        \n",
    "                    paths = []\n",
    "\n",
    "                else:\n",
    "                    paths = [[ar_nu]]\n",
    "                tests.append({\n",
    "                        \"reagents\": reagents,\n",
    "                        \"product\": product,\n",
    "                        \"paths\": paths\n",
    "                    })"
   ]
  },
  {
   "cell_type": "code",
   "execution_count": 298,
   "metadata": {
    "collapsed": false
   },
   "outputs": [],
   "source": [
    "# Nucleophilic substitution appears with EWG in ortho- with another leaving group in meta- (which stays)\n",
    "\n",
    "for leaving_group1 in leaving_groups:\n",
    "    for leaving_group2 in leaving_groups:\n",
    "        for ewg in ewgs:\n",
    "            for nuc_in, nuc_ac in zip(nuc_ins, nuc_acs):\n",
    "                reagents = [\"c({})1cccc({})c1{}\".format(ewg, leaving_group2, leaving_group1), nuc_in]\n",
    "                pf = \"c({})1cccc({})c1{}\"\n",
    "                product = pf.format(ewg, leaving_group2, nuc_ac)\n",
    "\n",
    "                # If reaction could have two ways\n",
    "                # We usually cannot control, which way it'll take\n",
    "                # However, in symmetrical case, we can rely on it\n",
    "                if ewg in leaving_groups and \\\n",
    "                    leaving_group in ewgs and \\\n",
    "                    Chem.CanonSmiles(product) != \\\n",
    "                    Chem.CanonSmiles(pf.format(nuc_ac, leaving_group2, leaving_group1)):\n",
    "                        \n",
    "                    paths = []\n",
    "\n",
    "                else:\n",
    "                    paths = [[ar_nu]]\n",
    "                tests.append({\n",
    "                        \"reagents\": reagents,\n",
    "                        \"product\": product,\n",
    "                        \"paths\": paths\n",
    "                    })"
   ]
  },
  {
   "cell_type": "code",
   "execution_count": 299,
   "metadata": {
    "collapsed": true
   },
   "outputs": [],
   "source": [
    "# Nucleophilic substitution appears with EWG in para- with another leaving group in meta- (which stays)\n",
    "\n",
    "for leaving_group1 in leaving_groups:\n",
    "    for leaving_group2 in leaving_groups:\n",
    "        for ewg in ewgs:\n",
    "            for nuc_in, nuc_ac in zip(nuc_ins, nuc_acs):\n",
    "                reagents = [\"c({})1cc({})c({})cc1\".format(ewg, leaving_group2, leaving_group1), nuc_in]\n",
    "                pf = \"c({})1cc({})c({})cc1\"\n",
    "                product = pf.format(ewg, leaving_group2, nuc_ac)\n",
    "\n",
    "                # If reaction could have two ways\n",
    "                # We usually cannot control, which way it'll take\n",
    "                # However, in symmetrical case, we can rely on it\n",
    "                if ewg in leaving_groups and \\\n",
    "                    leaving_group in ewgs and \\\n",
    "                    Chem.CanonSmiles(product) != \\\n",
    "                    Chem.CanonSmiles(pf.format(nuc_ac, leaving_group2, leaving_group1)):\n",
    "                        \n",
    "                    paths = []\n",
    "\n",
    "                else:\n",
    "                    paths = [[ar_nu]]\n",
    "                tests.append({\n",
    "                        \"reagents\": reagents,\n",
    "                        \"product\": product,\n",
    "                        \"paths\": paths\n",
    "                    })"
   ]
  },
  {
   "cell_type": "code",
   "execution_count": 300,
   "metadata": {
    "collapsed": true
   },
   "outputs": [],
   "source": [
    "# Nucleophilic substitution appears with EWG in ortho- with another leaving group in ortho- both ways,\n",
    "# so that's impossible to substitute only one\n",
    "\n",
    "for leaving_group1 in leaving_groups:\n",
    "    for leaving_group2 in leaving_groups:\n",
    "        for ewg in ewgs:\n",
    "            for nuc_in, nuc_ac in zip(nuc_ins, nuc_acs):\n",
    "                reagents = [\"c({})1c({})cccc1{}\".format(ewg, leaving_group2, leaving_group1), nuc_in]\n",
    "                for direction in [(ewg, leaving_group2, nuc_ac), (ewg, nuc_ac, leaving_group1)]:\n",
    "                    product = \"c({})1c({})cccc1{}\".format(*direction)\n",
    "                    paths = []\n",
    "                    tests.append({\n",
    "                            \"reagents\": reagents,\n",
    "                            \"product\": product,\n",
    "                            \"paths\": paths\n",
    "                        })"
   ]
  },
  {
   "cell_type": "code",
   "execution_count": 301,
   "metadata": {
    "collapsed": true
   },
   "outputs": [],
   "source": [
    "# Nucleophilic substitution appears with EWG in ortho- with another leaving group in ortho- and para- both ways,\n",
    "# so that's impossible to substitute only one\n",
    "\n",
    "for leaving_group1 in leaving_groups:\n",
    "    for leaving_group2 in leaving_groups:\n",
    "        for ewg in ewgs:\n",
    "            for nuc_in, nuc_ac in zip(nuc_ins, nuc_acs):\n",
    "                reagents = [\"c({})1ccc({})cc1{}\".format(ewg, leaving_group2, leaving_group1), nuc_in]\n",
    "                for direction in [(ewg, leaving_group2, nuc_ac), (ewg, nuc_ac, leaving_group1)]:\n",
    "                    product = \"c({})1ccc({})cc1{}\".format(*direction)\n",
    "                    paths = []\n",
    "                    tests.append({\n",
    "                            \"reagents\": reagents,\n",
    "                            \"product\": product,\n",
    "                            \"paths\": paths\n",
    "                        })"
   ]
  },
  {
   "cell_type": "code",
   "execution_count": 302,
   "metadata": {
    "collapsed": false
   },
   "outputs": [],
   "source": [
    "# Conjugated carbon aromatic system. Like ortho- position\n",
    "\n",
    "for leaving_group in leaving_groups:\n",
    "    leaving_groupf = \"({})\".format(leaving_group)\n",
    "    for ewg in ewgs:\n",
    "        ewgf = \"({})\".format(ewg)\n",
    "        for nuc_in, nuc_ac in zip(nuc_ins, nuc_acs):\n",
    "            nuc_acf = \"({})\".format(nuc_ac)\n",
    "            for perm in set(list(permutations([\"\", \"\", \"\", leaving_groupf]))):\n",
    "                perm_out = [d if d != leaving_groupf else nuc_acf for d in perm]\n",
    "                reagents = [\"c12c{}c{}cc{}c1c{}cc{}c2\".format(ewgf, *perm), nuc_in]\n",
    "                \n",
    "                pf = \"c12c{}c{}cc{}c1c{}cc{}c2\"\n",
    "                product = pf.format(ewgf, *perm_out)\n",
    "\n",
    "                # If reaction could have two ways\n",
    "                # We usually cannot control, which way it'll take\n",
    "                # However, in symmetrical case, we can rely on it\n",
    "                if ewg in leaving_groups and \\\n",
    "                    leaving_group in ewgs and \\\n",
    "                    Chem.CanonSmiles(product) != \\\n",
    "                    Chem.CanonSmiles(pf.format(nuc_acf, *perm)):\n",
    "                        \n",
    "                    paths = []\n",
    "                else:\n",
    "                    paths = [[ar_nu]]\n",
    "                    \n",
    "                tests.append({\n",
    "                        \"reagents\": reagents,\n",
    "                        \"product\": product,\n",
    "                        \"paths\": paths\n",
    "                    })"
   ]
  },
  {
   "cell_type": "code",
   "execution_count": 303,
   "metadata": {
    "collapsed": false
   },
   "outputs": [],
   "source": [
    "# Conjugated carbon aromatic system. Like ortho- position\n",
    "# EWG moved to a point, which have 4 symmetric points\n",
    "\n",
    "for leaving_group in leaving_groups:\n",
    "    leaving_groupf = \"({})\".format(leaving_group)\n",
    "    for ewg in ewgs:\n",
    "        ewgf = \"({})\".format(ewg)\n",
    "        for nuc_in, nuc_ac in zip(nuc_ins, nuc_acs):\n",
    "            nuc_acf = \"({})\".format(nuc_ac)\n",
    "            for perm in set(list(permutations([\"\", \"\", \"\", leaving_groupf]))):\n",
    "                perm_out = [d if d != leaving_groupf else nuc_acf for d in perm]\n",
    "                reagents = [\"c1{}c{}cc2cc{}cc{}c2c1{}\".format(ewgf, *perm), nuc_in]\n",
    "                \n",
    "                pf = \"c1{}c{}cc2cc{}cc{}c2c1{}\"\n",
    "                product = pf.format(ewgf, *perm_out)\n",
    "\n",
    "                # If reaction could have two ways\n",
    "                # We usually cannot control, which way it'll take\n",
    "                # However, in symmetrical case, we can rely on it\n",
    "                if ewg in leaving_groups and \\\n",
    "                    leaving_group in ewgs and \\\n",
    "                    Chem.CanonSmiles(product) != \\\n",
    "                    Chem.CanonSmiles(pf.format(nuc_acf, *perm)):\n",
    "                        \n",
    "                    paths = []\n",
    "                else:\n",
    "                    paths = [[ar_nu]]\n",
    "                    \n",
    "                tests.append({\n",
    "                        \"reagents\": reagents,\n",
    "                        \"product\": product,\n",
    "                        \"paths\": paths\n",
    "                    })"
   ]
  },
  {
   "cell_type": "code",
   "execution_count": 304,
   "metadata": {
    "collapsed": true
   },
   "outputs": [],
   "source": [
    "# Conjugated carbon aromatic system. Like meta- position\n",
    "\n",
    "for leaving_group in leaving_groups:\n",
    "    leaving_groupf = \"({})\".format(leaving_group)\n",
    "    for ewg in ewgs:\n",
    "        ewgf = \"({})\".format(ewg)\n",
    "        for nuc_in, nuc_ac in zip(nuc_ins, nuc_acs):\n",
    "            for perm in set(list(permutations([\"\", \"\", leaving_groupf]))):\n",
    "                perm_out = [d if d != leaving_groupf else nuc_acf for d in perm]\n",
    "                reagents = [\"c12c({})cc{}cc1cc{}cc2{}\".format(ewgf, *perm), nuc_in]\n",
    "                \n",
    "                pf = \"c12c({})cc{}cc1cc{}cc2{}\"\n",
    "                product = pf.format(ewgf, *perm_out)\n",
    "                paths = []\n",
    "                    \n",
    "                tests.append({\n",
    "                        \"reagents\": reagents,\n",
    "                        \"product\": product,\n",
    "                        \"paths\": paths\n",
    "                    })"
   ]
  },
  {
   "cell_type": "code",
   "execution_count": 305,
   "metadata": {
    "collapsed": false
   },
   "outputs": [],
   "source": [
    "# Conjugated carbon aromatic system. Like ortho- position. Two EWG, synergic effect\n",
    "\n",
    "for leaving_group in leaving_groups:\n",
    "    for ewg1 in ewgs:\n",
    "        ewg1f = \"({})\".format(ewg1)\n",
    "        for ewg2 in ewgs:\n",
    "            ewg2f = \"({})\".format(ewg2)\n",
    "            for nuc_in, nuc_ac in zip(nuc_ins, nuc_acs):\n",
    "                nuc_acf = \"({})\".format(nuc_ac)\n",
    "                for perm in set(list(permutations([\"\", \"\", \"\", leaving_groupf]))):\n",
    "                    perm_out = [d if d != leaving_groupf else nuc_acf for d in perm]\n",
    "                    reagents = [\"c12c{}c{}cc{}c1c{}cc{}c2{}\".format(ewg1f, *perm, ewg2f), nuc_in]\n",
    "\n",
    "                    pf = \"c12c{}c{}cc{}c1c{}cc{}c2{}\"\n",
    "                    product = pf.format(ewg1f, *perm_out, ewg2f)\n",
    "\n",
    "                    # If reaction could have two ways\n",
    "                    # We usually cannot control, which way it'll take\n",
    "                    # However, in symmetrical case, we can rely on it\n",
    "                    if ewg1 in leaving_groups and \\\n",
    "                        leaving_group in ewgs and \\\n",
    "                        Chem.CanonSmiles(product) != \\\n",
    "                        Chem.CanonSmiles(pf.format(nuc_acf, *perm, ewg2f)):\n",
    "                            \n",
    "                        paths = []\n",
    "                        \n",
    "                    elif ewg2 in leaving_groups and \\\n",
    "                        leaving_group in ewgs and \\\n",
    "                        Chem.CanonSmiles(product) != \\\n",
    "                        Chem.CanonSmiles(pf.format(ewg1f, *perm, nuc_acf)):\n",
    "                            \n",
    "                        paths = []\n",
    "                    else:\n",
    "                        paths = [[ar_nu]]\n",
    "\n",
    "                    tests.append({\n",
    "                            \"reagents\": reagents,\n",
    "                            \"product\": product,\n",
    "                            \"paths\": paths\n",
    "                        })"
   ]
  },
  {
   "cell_type": "code",
   "execution_count": 308,
   "metadata": {
    "collapsed": false
   },
   "outputs": [],
   "source": [
    "json.dump(tests, open(\"nucleo_carbo_aro.json\", \"w\"))"
   ]
  }
 ],
 "metadata": {
  "anaconda-cloud": {},
  "kernelspec": {
   "display_name": "Python [conda root]",
   "language": "python",
   "name": "conda-root-py"
  },
  "language_info": {
   "codemirror_mode": {
    "name": "ipython",
    "version": 3
   },
   "file_extension": ".py",
   "mimetype": "text/x-python",
   "name": "python",
   "nbconvert_exporter": "python",
   "pygments_lexer": "ipython3",
   "version": "3.5.2"
  }
 },
 "nbformat": 4,
 "nbformat_minor": 1
}
