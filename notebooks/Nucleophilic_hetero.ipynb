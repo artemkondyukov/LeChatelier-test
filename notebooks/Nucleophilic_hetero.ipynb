{
 "cells": [
  {
   "cell_type": "code",
   "execution_count": 1,
   "metadata": {
    "collapsed": true
   },
   "outputs": [],
   "source": [
    "from itertools import permutations\n",
    "import json\n",
    "from matplotlib import pyplot as plt\n",
    "from rdkit import Chem\n",
    "from rdkit.Chem import Draw\n",
    "\n",
    "%matplotlib inline"
   ]
  },
  {
   "cell_type": "code",
   "execution_count": 2,
   "metadata": {
    "collapsed": true
   },
   "outputs": [],
   "source": [
    "nitric_acid = \"O[N+](=O)[O-]\"\n",
    "ammonia = \"N\"\n",
    "aniline = \"c1ccc(N)cc1\"\n",
    "hydrogen = \"[H][H]\"\n",
    "hydrazine = \"NN\"\n",
    "chlorine = \"ClCl\"\n",
    "ethyl_alcohol = \"CCO\"\n",
    "isopropyl_alcohol = \"CC(O)C\"\n",
    "acetic_acid = \"CC(=O)O\"\n",
    "phenol = \"c1cc(O)ccc1\"\n",
    "diethyl_ether = \"CCOCC\"\n",
    "dimethyl_ether = \"COC\""
   ]
  },
  {
   "cell_type": "code",
   "execution_count": 3,
   "metadata": {
    "collapsed": true
   },
   "outputs": [],
   "source": [
    "ar_nu = \"aromatic nucleophilic substitution\"\n",
    "ar_el = \"aromatic electrophilic substitution\""
   ]
  },
  {
   "cell_type": "code",
   "execution_count": 4,
   "metadata": {
    "collapsed": true
   },
   "outputs": [],
   "source": [
    "ewgs = [\n",
    "    \"[N+](=O)[O-]\", \"C(=O)CC\", \"C(=O)NC\", \n",
    "    \"C(F)(F)F\", \"C(Cl)(Cl)(Cl)\", \"C#N\", \"[N+](C)(C)C\",\n",
    "    \"OS(=O)=O\", \"OS(=O)(=O)C\"\n",
    "]\n",
    "\n",
    "edgs = [\n",
    "    \"N\", \"N(C)C\", \"C(C)(C)C\", \"O\", \"NC(=O)CC\",\n",
    "    \"S\", \"SC\"\n",
    "]\n",
    "\n",
    "nuc_ins = [\n",
    "    \"N\", ethyl_alcohol, isopropyl_alcohol, \"N(CC)CC\", \"N(C)C\", \"CN\"\n",
    "]\n",
    "\n",
    "nuc_acs = [\n",
    "    \"N\", \"OCC\", \"OC(C)C\", \"N(CC)CC\", \"N(C)C\", \"NC\"\n",
    "]\n",
    "\n",
    "leaving_groups = [\"Cl\", \"F\", \"OS(=O)=O\", \"OS(=O)(=O)C\"]"
   ]
  },
  {
   "cell_type": "code",
   "execution_count": 5,
   "metadata": {
    "collapsed": true
   },
   "outputs": [],
   "source": [
    "tests = []"
   ]
  },
  {
   "cell_type": "code",
   "execution_count": 118,
   "metadata": {
    "collapsed": false
   },
   "outputs": [],
   "source": [
    "#Pyrrole, w/o explicit EWG. Ortho- position.\n",
    "\n",
    "for leaving_group in leaving_groups:\n",
    "    leaving_groupf = \"({})\".format(leaving_group)\n",
    "    for nuc_in, nuc_ac in zip(nuc_ins, nuc_acs):\n",
    "        nuc_acf = \"({})\".format(nuc_ac)\n",
    "        for perm in set(list(permutations([\"\", leaving_groupf]))):\n",
    "            perm_out = [d if d != leaving_groupf else nuc_acf for d in perm]\n",
    "            reagents = [\"c{}1ccc{}[nH]1\".format(*perm), nuc_in]\n",
    "            \n",
    "            pf = \"c{}1ccc{}[nH]1\"\n",
    "            product = pf.format(*perm_out)\n",
    "            \n",
    "            paths = [[ar_nu]]\n",
    "            \n",
    "            tests.append({\n",
    "                    \"reagents\": reagents,\n",
    "                    \"product\": product,\n",
    "                    \"paths\": paths\n",
    "                })"
   ]
  },
  {
   "cell_type": "code",
   "execution_count": 119,
   "metadata": {
    "collapsed": true
   },
   "outputs": [],
   "source": [
    "#Pyrrole, w/o explicit EWG. Meta- position.\n",
    "\n",
    "for leaving_group in leaving_groups:\n",
    "    leaving_groupf = \"({})\".format(leaving_group)\n",
    "    for nuc_in, nuc_ac in zip(nuc_ins, nuc_acs):\n",
    "        nuc_acf = \"({})\".format(nuc_ac)\n",
    "        for perm in set(list(permutations([\"\", leaving_groupf]))):\n",
    "            perm_out = [d if d != leaving_groupf else nuc_acf for d in perm]\n",
    "            reagents = [\"c1c{}c{}c[nH]1\".format(*perm), nuc_in]\n",
    "            \n",
    "            pf = \"c{}1ccc{}[nH]1\"\n",
    "            product = pf.format(*perm_out)\n",
    "            \n",
    "            paths = []\n",
    "            \n",
    "            tests.append({\n",
    "                    \"reagents\": reagents,\n",
    "                    \"product\": product,\n",
    "                    \"paths\": paths\n",
    "                })"
   ]
  },
  {
   "cell_type": "code",
   "execution_count": 120,
   "metadata": {
    "collapsed": true
   },
   "outputs": [],
   "source": [
    "#Pyrrole, EDG in para- , iterferring effect.\n",
    "\n",
    "for leaving_group in leaving_groups:\n",
    "    leaving_groupf = \"({})\".format(leaving_group)\n",
    "    for edg in edgs:\n",
    "        edgf = \"({})\".format(edg)\n",
    "        for nuc_in, nuc_ac in zip(nuc_ins, nuc_acs):\n",
    "            nuc_acf = \"({})\".format(nuc_ac)\n",
    "            for perm in set(list(permutations([leaving_groupf]))):\n",
    "                perm_out = [d if d != leaving_groupf else nuc_acf for d in perm]\n",
    "                reagents = [\"c{}1ccc{}[nH]1\".format(edgf, *perm), nuc_in]\n",
    "\n",
    "                pf = \"c{}1ccc{}[nH]1\"\n",
    "                product = pf.format(edgf, *perm_out)\n",
    "\n",
    "                paths = []\n",
    "\n",
    "                tests.append({\n",
    "                        \"reagents\": reagents,\n",
    "                        \"product\": product,\n",
    "                        \"paths\": paths\n",
    "                    })"
   ]
  },
  {
   "cell_type": "code",
   "execution_count": 121,
   "metadata": {
    "collapsed": true
   },
   "outputs": [],
   "source": [
    "# Pyrrole, EDG in meta-, non-interferring\n",
    "\n",
    "for leaving_group in leaving_groups:\n",
    "    leaving_groupf = \"({})\".format(leaving_group)\n",
    "    for edg in edgs:\n",
    "        edgf = \"({})\".format(edg)\n",
    "        for nuc_in, nuc_ac in zip(nuc_ins, nuc_acs):\n",
    "            nuc_acf = \"({})\".format(nuc_ac)\n",
    "            for perm in set(list(permutations([leaving_groupf]))):\n",
    "                perm_out = [d if d != leaving_groupf else nuc_acf for d in perm]\n",
    "                reagents = [\"c1c{}cc{}[nH]1\".format(edgf, *perm), nuc_in]\n",
    "\n",
    "                pf = \"c1c{}cc{}[nH]1\"\n",
    "                product = pf.format(edgf, *perm_out)\n",
    "\n",
    "                paths = [[ar_nu]]\n",
    "\n",
    "                tests.append({\n",
    "                        \"reagents\": reagents,\n",
    "                        \"product\": product,\n",
    "                        \"paths\": paths\n",
    "                    })\n",
    "                \n",
    "for leaving_group in leaving_groups:\n",
    "    leaving_groupf = \"({})\".format(leaving_group)\n",
    "    for edg in edgs:\n",
    "        edgf = \"({})\".format(edg)\n",
    "        for nuc_in, nuc_ac in zip(nuc_ins, nuc_acs):\n",
    "            nuc_acf = \"({})\".format(nuc_ac)\n",
    "            for perm in set(list(permutations([leaving_groupf]))):\n",
    "                perm_out = [d if d != leaving_groupf else nuc_acf for d in perm]\n",
    "                reagents = [\"c{}1cc{}c[nH]1\".format(*perm, edgf), nuc_in]\n",
    "\n",
    "                pf = \"c{}1cc{}c[nH]1\"\n",
    "                product = pf.format(*perm_out, edgf)\n",
    "\n",
    "                paths = [[ar_nu]]\n",
    "\n",
    "                tests.append({\n",
    "                        \"reagents\": reagents,\n",
    "                        \"product\": product,\n",
    "                        \"paths\": paths\n",
    "                    })"
   ]
  },
  {
   "cell_type": "code",
   "execution_count": 123,
   "metadata": {
    "collapsed": false
   },
   "outputs": [],
   "source": [
    "# Pyrrole, EWG in para wrt to leaving group, coordinates.\n",
    "\n",
    "for leaving_group in leaving_groups:\n",
    "    leaving_groupf = \"({})\".format(leaving_group)\n",
    "    for ewg in ewgs:\n",
    "        ewgf = \"({})\".format(ewg)\n",
    "        for nuc_in, nuc_ac in zip(nuc_ins, nuc_acs):\n",
    "            nuc_acf = \"({})\".format(nuc_ac)\n",
    "            for perm in set(list(permutations([leaving_groupf]))):\n",
    "                perm_out = [d if d != leaving_groupf else nuc_acf for d in perm]\n",
    "                reagents = [\"c{}1ccc{}[nH]1\".format(ewgf, *perm), nuc_in]\n",
    "\n",
    "                pf = \"c{}1ccc{}[nH]1\"\n",
    "                product = pf.format(ewgf, *perm_out)\n",
    "\n",
    "                paths = [[ar_nu]]\n",
    "\n",
    "                tests.append({\n",
    "                        \"reagents\": reagents,\n",
    "                        \"product\": product,\n",
    "                        \"paths\": paths\n",
    "                    })"
   ]
  },
  {
   "cell_type": "code",
   "execution_count": 124,
   "metadata": {
    "collapsed": false
   },
   "outputs": [],
   "source": [
    "# Pyrrole, 1 explicit EWG, two leaving group, one is in meta- wrt to both EWGs\n",
    "\n",
    "for leaving_group1 in leaving_groups:\n",
    "    leaving_group1f = \"({})\".format(leaving_group1)\n",
    "    for leaving_group2 in leaving_groups:\n",
    "        \n",
    "        leaving_group2f = \"({})\".format(leaving_group2)\n",
    "        for ewg in ewgs:\n",
    "            ewgf = \"({})\".format(ewg)\n",
    "            for nuc_in, nuc_ac in zip(nuc_ins, nuc_acs):\n",
    "                nuc_acf = \"({})\".format(nuc_ac)\n",
    "                perm = [leaving_group1f, leaving_group2f]\n",
    "                    \n",
    "                perm_out = [leaving_group1f, nuc_ac]\n",
    "\n",
    "                reagents = [\"c{}1cc{}c{}[nH]1\".format(ewgf, *perm), nuc_in]\n",
    "\n",
    "                pf = \"c{}1cc{}c{}[nH]1\"\n",
    "                product = pf.format(ewgf, *perm_out)\n",
    "\n",
    "                # If reaction could have two ways\n",
    "                # We usually cannot control, which way it'll take\n",
    "                # However, in symmetrical case, we can rely on it\n",
    "                if ewg in leaving_groups and \\\n",
    "                    leaving_group2 in ewgs and \\\n",
    "                    Chem.CanonSmiles(product) != \\\n",
    "                    Chem.CanonSmiles(pf.format(nuc_acf, *perm)):\n",
    "\n",
    "                    paths = []\n",
    "                else:\n",
    "                    paths = [[ar_nu]]\n",
    "\n",
    "                tests.append({\n",
    "                        \"reagents\": reagents,\n",
    "                        \"product\": product,\n",
    "                        \"paths\": paths\n",
    "                    })"
   ]
  },
  {
   "cell_type": "code",
   "execution_count": 125,
   "metadata": {
    "collapsed": true
   },
   "outputs": [],
   "source": [
    "# Pyrazole, w/o explicit EWG, ortho- position\n",
    "\n",
    "for leaving_group in leaving_groups:\n",
    "    leaving_groupf = \"({})\".format(leaving_group)\n",
    "    for nuc_in, nuc_ac in zip(nuc_ins, nuc_acs):\n",
    "        nuc_acf = \"({})\".format(nuc_ac)\n",
    "        for perm in set(list(permutations([leaving_groupf, \"\"]))):\n",
    "            perm_out = [d if d != leaving_groupf else nuc_acf for d in perm]\n",
    "            \n",
    "            reagents = [\"c1{}cc{}[nH]n1\".format(*perm), nuc_in]\n",
    "            \n",
    "            pf = \"c1{}cc{}[nH]n1\"\n",
    "            product = pf.format(*perm_out)\n",
    "            \n",
    "            paths = [[ar_nu]]\n",
    "\n",
    "            tests.append({\n",
    "                    \"reagents\": reagents,\n",
    "                    \"product\": product,\n",
    "                    \"paths\": paths\n",
    "                })"
   ]
  },
  {
   "cell_type": "code",
   "execution_count": 126,
   "metadata": {
    "collapsed": true
   },
   "outputs": [],
   "source": [
    "# Pyrazole, w/o explicit EWG, meta- position\n",
    "\n",
    "for leaving_group in leaving_groups:\n",
    "    leaving_groupf = \"({})\".format(leaving_group)\n",
    "    for nuc_in, nuc_ac in zip(nuc_ins, nuc_acs):\n",
    "        nuc_acf = \"({})\".format(nuc_ac)\n",
    "        for perm in set(list(permutations([leaving_groupf]))):\n",
    "            perm_out = [d if d != leaving_groupf else nuc_acf for d in perm]\n",
    "            \n",
    "            reagents = [\"c1c{}c[nH]n1\".format(*perm), nuc_in]\n",
    "            \n",
    "            pf = \"c1c{}c[nH]n1\"\n",
    "            product = pf.format(*perm_out)\n",
    "            \n",
    "            paths = []\n",
    "\n",
    "            tests.append({\n",
    "                    \"reagents\": reagents,\n",
    "                    \"product\": product,\n",
    "                    \"paths\": paths\n",
    "                })"
   ]
  },
  {
   "cell_type": "code",
   "execution_count": 127,
   "metadata": {
    "collapsed": true
   },
   "outputs": [],
   "source": [
    "# Imidazole, w/o explicit EWG, reactive position (ortho- wrt both)\n",
    "\n",
    "for leaving_group in leaving_groups:\n",
    "    leaving_groupf = \"({})\".format(leaving_group)\n",
    "    for nuc_in, nuc_ac in zip(nuc_ins, nuc_acs):\n",
    "        nuc_acf = \"({})\".format(nuc_ac)\n",
    "        for perm in set(list(permutations([leaving_groupf]))):\n",
    "            perm_out = [d if d != leaving_groupf else nuc_acf for d in perm]\n",
    "            \n",
    "            reagents = [\"c1c[nH]c{}n1\".format(*perm), nuc_in]\n",
    "            \n",
    "            pf = \"c1c[nH]c{}n1\"\n",
    "            product = pf.format(*perm_out)\n",
    "            \n",
    "            paths = [[nuc_ac]]\n",
    "\n",
    "            tests.append({\n",
    "                    \"reagents\": reagents,\n",
    "                    \"product\": product,\n",
    "                    \"paths\": paths\n",
    "                })"
   ]
  },
  {
   "cell_type": "code",
   "execution_count": 128,
   "metadata": {
    "collapsed": true
   },
   "outputs": [],
   "source": [
    "# Imidazole, w/o explicit EWG, reactive position (meta- wrt any)\n",
    "\n",
    "for leaving_group in leaving_groups:\n",
    "    leaving_groupf = \"({})\".format(leaving_group)\n",
    "    for nuc_in, nuc_ac in zip(nuc_ins, nuc_acs):\n",
    "        nuc_acf = \"({})\".format(nuc_ac)\n",
    "        for perm in set(list(permutations([leaving_groupf, \"\"]))):\n",
    "            perm_out = [d if d != leaving_groupf else nuc_acf for d in perm]\n",
    "            \n",
    "            reagents = [\"c{}1c{}[nH]cn1\".format(*perm), nuc_in]\n",
    "            \n",
    "            pf = \"c{}1c{}[nH]cn1\"\n",
    "            product = pf.format(*perm_out)\n",
    "            \n",
    "            paths = []\n",
    "\n",
    "            tests.append({\n",
    "                    \"reagents\": reagents,\n",
    "                    \"product\": product,\n",
    "                    \"paths\": paths\n",
    "                })"
   ]
  },
  {
   "cell_type": "code",
   "execution_count": 129,
   "metadata": {
    "collapsed": true
   },
   "outputs": [],
   "source": [
    "# Imidazole, with explicit EWG in meta-, no interference\n",
    "\n",
    "for leaving_group in leaving_groups:\n",
    "    leaving_groupf = \"({})\".format(leaving_group)\n",
    "    for ewg in ewgs:\n",
    "        ewgf = \"({})\".format(ewg)\n",
    "        for nuc_in, nuc_ac in zip(nuc_ins, nuc_acs):\n",
    "            nuc_acf = \"({})\".format(nuc_ac)\n",
    "            for perm in set(list(permutations([leaving_groupf]))):\n",
    "                perm_out = [d if d != leaving_groupf else nuc_acf for d in perm]\n",
    "\n",
    "                reagents = [\"c{}1c[nH]c{}n1\".format(ewgf, *perm), nuc_in]\n",
    "\n",
    "                pf = \"c{}1c[nH]c{}n1\"\n",
    "                product = pf.format(ewgf, *perm_out)\n",
    "\n",
    "                paths = [[ar_nu]]\n",
    "\n",
    "                tests.append({\n",
    "                        \"reagents\": reagents,\n",
    "                        \"product\": product,\n",
    "                        \"paths\": paths\n",
    "                    })"
   ]
  },
  {
   "cell_type": "code",
   "execution_count": 130,
   "metadata": {
    "collapsed": true
   },
   "outputs": [],
   "source": [
    "# Imidazole, with explicit EDG in meta-, no interference\n",
    "\n",
    "for leaving_group in leaving_groups:\n",
    "    leaving_groupf = \"({})\".format(leaving_group)\n",
    "    for edg in edgs:\n",
    "        edgf = \"({})\".format(edg)\n",
    "        for nuc_in, nuc_ac in zip(nuc_ins, nuc_acs):\n",
    "            nuc_acf = \"({})\".format(nuc_ac)\n",
    "            for perm in set(list(permutations([leaving_groupf]))):\n",
    "                perm_out = [d if d != leaving_groupf else nuc_acf for d in perm]\n",
    "\n",
    "                reagents = [\"c{}1c[nH]c{}n1\".format(edgf, *perm), nuc_in]\n",
    "\n",
    "                pf = \"c{}1c[nH]c{}n1\"\n",
    "                product = pf.format(edgf, *perm_out)\n",
    "\n",
    "                paths = [[ar_nu]]\n",
    "\n",
    "                tests.append({\n",
    "                        \"reagents\": reagents,\n",
    "                        \"product\": product,\n",
    "                        \"paths\": paths\n",
    "                    })"
   ]
  },
  {
   "cell_type": "code",
   "execution_count": 131,
   "metadata": {
    "collapsed": true
   },
   "outputs": [],
   "source": [
    "# Piridine, w/o explicit EWG, meta- position\n",
    "for leaving_group in leaving_groups:\n",
    "    leaving_groupf = \"({})\".format(leaving_group)\n",
    "    for nuc_in, nuc_ac in zip(nuc_ins, nuc_acs):\n",
    "        nuc_acf = \"({})\".format(nuc_ac)\n",
    "        for perm in set(list(permutations([leaving_groupf, \"\"]))):\n",
    "            perm_out = [d if d != leaving_groupf else nuc_acf for d in perm]\n",
    "\n",
    "            reagents = [\"c1c{}cc{}cn1\".format(*perm), nuc_in]\n",
    "\n",
    "            pf = \"c1c{}cc{}cn1\"\n",
    "            product = pf.format(*perm_out)\n",
    "\n",
    "            paths = [[]]\n",
    "\n",
    "            tests.append({\n",
    "                    \"reagents\": reagents,\n",
    "                    \"product\": product,\n",
    "                    \"paths\": paths\n",
    "                })"
   ]
  },
  {
   "cell_type": "code",
   "execution_count": 132,
   "metadata": {
    "collapsed": true
   },
   "outputs": [],
   "source": [
    "# Piridine, w/o explicit EWG, otho-/para- position\n",
    "for leaving_group in leaving_groups:\n",
    "    leaving_groupf = \"({})\".format(leaving_group)\n",
    "    for nuc_in, nuc_ac in zip(nuc_ins, nuc_acs):\n",
    "        nuc_acf = \"({})\".format(nuc_ac)\n",
    "        for perm in set(list(permutations([leaving_groupf, \"\", \"\"]))):\n",
    "            perm_out = [d if d != leaving_groupf else nuc_acf for d in perm]\n",
    "\n",
    "            reagents = [\"c{}1cc{}cc{}n1\".format(*perm), nuc_in]\n",
    "\n",
    "            pf = \"c{}1cc{}cc{}n1\"\n",
    "            product = pf.format(*perm_out)\n",
    "\n",
    "            paths = [[ar_nu]]\n",
    "\n",
    "            tests.append({\n",
    "                    \"reagents\": reagents,\n",
    "                    \"product\": product,\n",
    "                    \"paths\": paths\n",
    "                })"
   ]
  },
  {
   "cell_type": "code",
   "execution_count": 133,
   "metadata": {
    "collapsed": false
   },
   "outputs": [],
   "source": [
    "# Piridine, explicit EDG, interferring\n",
    "for leaving_group in leaving_groups:\n",
    "    leaving_groupf = \"({})\".format(leaving_group)\n",
    "    for edg in edgs:\n",
    "        edgf = \"({})\".format(edg)\n",
    "        for nuc_in, nuc_ac in zip(nuc_ins, nuc_acs):\n",
    "            nuc_acf = \"({})\".format(nuc_ac)\n",
    "            for perm in set(list(permutations([leaving_groupf, \"\", \"\"]))):\n",
    "                for perm_edg in set(list(permutations([edgf, \"\"]))):\n",
    "                    perm_dict = dict([(k, v) for k, v in zip([\"lg_{}\".format(i) for i in range(len(perm))], perm)])\n",
    "                    edg_dict = dict([k, v] for k, v in zip([\"dg_{}\".format(i) for i in range(len(perm_edg))], perm_edg))\n",
    "                    perm_dict.update(edg_dict)\n",
    "                    \n",
    "                    lg_num = [i for i in perm_dict.keys() if perm_dict[i] == leaving_groupf][0]\n",
    "                    perm_out_dict = perm_dict.copy()\n",
    "                    perm_out_dict[lg_num] = nuc_acf\n",
    "\n",
    "                    reagents = [\"c{lg_0}1c{dg_0}c{lg_1}c{dg_1}c{lg_2}n1\".format(**perm_dict), nuc_in]\n",
    "\n",
    "                    pf = \"c{lg_0}1c{dg_0}c{lg_1}c{dg_1}c{lg_2}n1\"\n",
    "                    product = pf.format(**perm_out_dict)\n",
    "\n",
    "                    paths = [[]]\n",
    "\n",
    "                    tests.append({\n",
    "                            \"reagents\": reagents,\n",
    "                            \"product\": product,\n",
    "                            \"paths\": paths\n",
    "                        })"
   ]
  },
  {
   "cell_type": "code",
   "execution_count": 134,
   "metadata": {
    "collapsed": true
   },
   "outputs": [],
   "source": [
    "# Indole, w/o explicit EWG, the only valid position\n",
    "\n",
    "for leaving_group in leaving_groups:\n",
    "    leaving_groupf = \"({})\".format(leaving_group)\n",
    "    for nuc_in, nuc_ac in zip(nuc_ins, nuc_acs):\n",
    "        nuc_acf = \"({})\".format(nuc_ac)\n",
    "\n",
    "        reagents = [\"c{}1cc2ccccc2[nH]1\".format(leaving_groupf), nuc_in]\n",
    "\n",
    "        pf = \"c{}1cc2ccccc2[nH]1\"\n",
    "        product = pf.format(nuc_acf)\n",
    "\n",
    "        paths = [[ar_nu]]\n",
    "\n",
    "        tests.append({\n",
    "                \"reagents\": reagents,\n",
    "                \"product\": product,\n",
    "                \"paths\": paths\n",
    "            })"
   ]
  },
  {
   "cell_type": "code",
   "execution_count": 135,
   "metadata": {
    "collapsed": false
   },
   "outputs": [],
   "source": [
    "# Indole, w/o explicit EWG, invalid positions\n",
    "\n",
    "for leaving_group in leaving_groups:\n",
    "    leaving_groupf = \"({})\".format(leaving_group)\n",
    "    for nuc_in, nuc_ac in zip(nuc_ins, nuc_acs):\n",
    "        nuc_acf = \"({})\".format(nuc_ac)\n",
    "\n",
    "        for perm in set(permutations([leaving_groupf, \"\", \"\", \"\", \"\"])):\n",
    "            reagents = [\"c1c{}c2c{}c{}c{}c{}c2[nH]1\".format(*perm), nuc_in]\n",
    "\n",
    "            pf = \"c1c{}c2c{}c{}c{}c{}c2[nH]1\"\n",
    "            perm_out = [d if d != leaving_groupf else nuc_acf for d in perm]\n",
    "            product = pf.format(*perm_out)\n",
    "\n",
    "            paths = [[]]\n",
    "\n",
    "            tests.append({\n",
    "                    \"reagents\": reagents,\n",
    "                    \"product\": product,\n",
    "                    \"paths\": paths\n",
    "                })"
   ]
  },
  {
   "cell_type": "code",
   "execution_count": 137,
   "metadata": {
    "collapsed": true
   },
   "outputs": [],
   "source": [
    "json.dump(tests, open(\"../cases/nucleo_hetero_aro.json\", \"w\"))"
   ]
  }
 ],
 "metadata": {
  "anaconda-cloud": {},
  "kernelspec": {
   "display_name": "Python [conda root]",
   "language": "python",
   "name": "conda-root-py"
  },
  "language_info": {
   "codemirror_mode": {
    "name": "ipython",
    "version": 3
   },
   "file_extension": ".py",
   "mimetype": "text/x-python",
   "name": "python",
   "nbconvert_exporter": "python",
   "pygments_lexer": "ipython3",
   "version": "3.5.2"
  }
 },
 "nbformat": 4,
 "nbformat_minor": 1
}
