{
 "cells": [
  {
   "cell_type": "code",
   "execution_count": 1,
   "metadata": {
    "collapsed": true
   },
   "outputs": [],
   "source": [
    "from itertools import permutations\n",
    "import json\n",
    "from matplotlib import pyplot as plt\n",
    "from rdkit import Chem\n",
    "from rdkit.Chem import Draw\n",
    "\n",
    "%matplotlib inline"
   ]
  },
  {
   "cell_type": "code",
   "execution_count": 2,
   "metadata": {
    "collapsed": true
   },
   "outputs": [],
   "source": [
    "nitric_acid = \"O[N+](=O)[O-]\"\n",
    "ammonia = \"N\"\n",
    "aniline = \"c1ccc(N)cc1\"\n",
    "hydrogen = \"[H][H]\"\n",
    "hydrazine = \"NN\"\n",
    "chlorine = \"ClCl\"\n",
    "ethyl_alcohol = \"CCO\"\n",
    "isopropyl_alcohol = \"CC(O)C\"\n",
    "acetic_acid = \"CC(=O)O\"\n",
    "phenol = \"c1cc(O)ccc1\"\n",
    "diethyl_ether = \"CCOCC\"\n",
    "dimethyl_ether = \"COC\""
   ]
  },
  {
   "cell_type": "code",
   "execution_count": 3,
   "metadata": {
    "collapsed": true
   },
   "outputs": [],
   "source": [
    "ar_nu = \"aromatic nucleophilic substitution\"\n",
    "ar_el = \"aromatic electrophilic substitution\""
   ]
  },
  {
   "cell_type": "code",
   "execution_count": 4,
   "metadata": {
    "collapsed": true
   },
   "outputs": [],
   "source": [
    "ewgs = [\n",
    "    \"[N+](=O)[O-]\", \"C(=O)CC\", \"C(=O)NC\", \n",
    "    \"C(F)(F)F\", \"C(Cl)(Cl)(Cl)\", \"C#N\", \"[N+](C)(C)C\",\n",
    "    \"OS(=O)=O\", \"OS(=O)(=O)C\"\n",
    "]\n",
    "\n",
    "edgs = [\n",
    "    \"N\", \"N(C)C\", \"C(C)(C)C\", \"O\", \"NC(=O)CC\",\n",
    "    \"S\", \"SC\"\n",
    "]\n",
    "\n",
    "halogens = [\n",
    "    \"F\", \"Cl\", \"Br\", \"I\"\n",
    "]\n",
    "\n",
    "el_ins = [\"ClCl\", \"CC(=O)Cl\", \"BrBr\", \"OS(=O)(=O)O\", \"O[N+](=O)[O-]\"]\n",
    "el_acs = [\"Cl\", \"C(=O)C\", \"Br\", \"S(=O)(=O)O\", \"[N+](=O)O\"]"
   ]
  },
  {
   "cell_type": "code",
   "execution_count": 5,
   "metadata": {
    "collapsed": true
   },
   "outputs": [],
   "source": [
    "tests = []"
   ]
  },
  {
   "cell_type": "code",
   "execution_count": 6,
   "metadata": {
    "collapsed": false
   },
   "outputs": [],
   "source": [
    "# Benzene ring. Inactive.\n",
    "\n",
    "for el_in, el_ac in zip(el_ins, el_acs):\n",
    "    el_acf = \"({})\".format(el_ac)\n",
    "    reagents = [\"c1ccccc1\", el_in]\n",
    "    \n",
    "    product = \"c1{}ccccc1\".format(el_acf)\n",
    "    \n",
    "    paths = []\n",
    "    \n",
    "    tests.append({\n",
    "            \"regents\": reagents,\n",
    "            \"product\": product,\n",
    "            \"paths\": paths\n",
    "        })"
   ]
  },
  {
   "cell_type": "code",
   "execution_count": 7,
   "metadata": {
    "collapsed": false
   },
   "outputs": [],
   "source": [
    "# EDG in ortho-para. Active.\n",
    "\n",
    "for el_in, el_ac in zip(el_ins, el_acs):\n",
    "    el_acf = \"({})\".format(el_ac)\n",
    "    \n",
    "    for edg in edgs:\n",
    "        edgf = \"({})\".format(edg)\n",
    "        for perm in set(permutations([edgf, \"\", \"\"])):\n",
    "            perm_dict = dict([(k, v) for k, v in zip([\"d_{}\".format(i) for i in range(len(perm))], perm)])\n",
    "            reagents = [\"c1c{d_0}cc{d_1}cc{d_2}1\".format(**perm_dict), el_in]\n",
    "\n",
    "            perm_dict[\"el\"] = el_acf\n",
    "            product = \"c{el}1c{d_0}cc{d_1}cc{d_2}1\".format(**perm_dict)\n",
    "\n",
    "            paths = [[ar_el]]\n",
    "\n",
    "            tests.append({\n",
    "                    \"regents\": reagents,\n",
    "                    \"product\": product,\n",
    "                    \"paths\": paths\n",
    "                })"
   ]
  },
  {
   "cell_type": "code",
   "execution_count": 8,
   "metadata": {
    "collapsed": true
   },
   "outputs": [],
   "source": [
    "# EDG in meta- . Inactive\n",
    "\n",
    "for el_in, el_ac in zip(el_ins, el_acs):\n",
    "    el_acf = \"({})\".format(el_ac)\n",
    "    \n",
    "    for edg in edgs:\n",
    "        edgf = \"({})\".format(edg)\n",
    "        for perm in set(permutations([edgf, \"\"])):\n",
    "            perm_dict = dict([(k, v) for k, v in zip([\"d_{}\".format(i) for i in range(len(perm))], perm)])\n",
    "            reagents = [\"c1cc{d_0}cc{d_1}c1\".format(**perm_dict), el_in]\n",
    "\n",
    "            perm_dict[\"el\"] = el_acf\n",
    "            product = \"c{el}1cc{d_0}cc{d_1}c1\".format(**perm_dict)\n",
    "\n",
    "            paths = []\n",
    "\n",
    "            tests.append({\n",
    "                    \"regents\": reagents,\n",
    "                    \"product\": product,\n",
    "                    \"paths\": paths\n",
    "                })"
   ]
  },
  {
   "cell_type": "code",
   "execution_count": 9,
   "metadata": {
    "collapsed": true
   },
   "outputs": [],
   "source": [
    "# EDG and EWG. Interferring\n",
    "\n",
    "for edg in edgs:\n",
    "    edgf = \"({})\".format(edg)\n",
    "    for ewg in ewgs:\n",
    "        ewgf = \"({})\".format(ewg)\n",
    "        for el_in, el_ac in zip(el_ins, el_acs):\n",
    "            el_acf = \"({})\".format(el_ac)\n",
    "            for perm in set(permutations([edgf, ewgf, \"\"])):\n",
    "                reagents = [\"c1c{}cc{}cc{}1\".format(*perm), el_in]\n",
    "                \n",
    "                product = \"c{}1c{}cc{}cc{}1\".format(el_acf, *perm)\n",
    "                \n",
    "                paths = []\n",
    "                \n",
    "                tests.append({\n",
    "                    \"regents\": reagents,\n",
    "                    \"product\": product,\n",
    "                    \"paths\": paths\n",
    "                })"
   ]
  },
  {
   "cell_type": "code",
   "execution_count": 10,
   "metadata": {
    "collapsed": true
   },
   "outputs": [],
   "source": [
    "# EDG and EWG. Non-interferring\n",
    "\n",
    "for edg in edgs:\n",
    "    edgf = \"({})\".format(edg)\n",
    "    for ewg in ewgs:\n",
    "        ewgf = \"({})\".format(ewg)\n",
    "        for el_in, el_ac in zip(el_ins, el_acs):\n",
    "            el_acf = \"({})\".format(el_ac)\n",
    "            for perm in set(permutations([ewgf, el_ac, \"\"])):\n",
    "                perm_dict = dict([(k, v) for k, v in zip([\"s_%d\" % i for i in range(len(perm))], perm)])\n",
    "                rev_perm_dict = dict([(v, k) for k, v in zip([\"s_%d\" % i for i in range(len(perm))], perm)])\n",
    "                \n",
    "                k_el = rev_perm_dict[el_ac]\n",
    "                perm_dict[k_el] = \"\"\n",
    "                \n",
    "                perm_dict[\"d\"] = edgf\n",
    "                \n",
    "                reagents = [\"c{d}1c{s_0}cc{s_1}cc{s_2}1\".format(**perm_dict), el_in]\n",
    "                \n",
    "                perm_dict[k_el] = el_acf\n",
    "                product = \"c{d}1c{s_0}cc{s_1}cc{s_2}1\".format(**perm_dict)\n",
    "                \n",
    "                paths = [[ar_el]]\n",
    "                \n",
    "                tests.append({\n",
    "                    \"regents\": reagents,\n",
    "                    \"product\": product,\n",
    "                    \"paths\": paths\n",
    "                })"
   ]
  },
  {
   "cell_type": "code",
   "execution_count": 11,
   "metadata": {
    "collapsed": false
   },
   "outputs": [],
   "source": [
    "# EDGs in both meta- and ortho-/para- positions. Active, in several positions.\n",
    "\n",
    "for el_in, el_ac in zip(el_ins, el_acs):\n",
    "    el_acf = \"({})\".format(el_ac)\n",
    "    \n",
    "    for edg1 in edgs:\n",
    "        edg1f = \"({})\".format(edg1)\n",
    "        for edg2 in edgs:\n",
    "            edg2f = \"({})\".format(edg2)\n",
    "            \n",
    "            for perm_meta in set(permutations([edg1f, \"\"])):\n",
    "                for perm_ortho in set(permutations([edg2f, \"\", \"\"])):\n",
    "                    perm = dict([(k, v) for k, v in zip([\"d_m_{}\".format(i) for i in range(len(perm_meta))], perm_meta)])\n",
    "                    perm.update(dict([(k, v) for k, v in zip([\"d_o_{}\".format(i) for i in range(len(perm_ortho))], perm_ortho)]))\n",
    "                    reagents = [\"c1c{d_o_0}c{d_m_0}c{d_o_1}c{d_m_1}c{d_o_2}1\".format(**perm), el_in]\n",
    "                    \n",
    "                    perm[\"el\"] = el_acf\n",
    "                    product = \"c{el}1c{d_o_0}c{d_m_0}c{d_o_1}c{d_m_1}c{d_o_2}1\".format(**perm)\n",
    "                    \n",
    "                    paths = []\n",
    "                    \n",
    "                    tests.append({\n",
    "                        \"regents\": reagents,\n",
    "                        \"product\": product,\n",
    "                        \"paths\": paths\n",
    "                    })"
   ]
  },
  {
   "cell_type": "code",
   "execution_count": 12,
   "metadata": {
    "collapsed": true
   },
   "outputs": [],
   "source": [
    "# Naphtalene ring. Inactive.\n",
    "\n",
    "for el_in, el_ac in zip(el_ins, el_acs):\n",
    "    el_acf = \"({})\".format(el_ac)\n",
    "    for perm in set(permutations([el_acf] + [\"\"] * 7)):\n",
    "        reagents = [\"c1cccc2ccccc12\", el_in]\n",
    "\n",
    "        product = \"c{}1c{}c{}c{}c2c{}c{}c{}c{}c12\".format(*perm)\n",
    "\n",
    "        paths = []\n",
    "\n",
    "        tests.append({\n",
    "                \"regents\": reagents,\n",
    "                \"product\": product,\n",
    "                \"paths\": paths\n",
    "            })"
   ]
  },
  {
   "cell_type": "code",
   "execution_count": 13,
   "metadata": {
    "collapsed": false
   },
   "outputs": [],
   "source": [
    "# EDG in ortho-para. Active.\n",
    "\n",
    "for el_in, el_ac in zip(el_ins, el_acs):\n",
    "    el_acf = \"({})\".format(el_ac)\n",
    "    \n",
    "    for edg in edgs:\n",
    "        edgf = \"({})\".format(edg)\n",
    "        for perm in set(permutations([edgf, \"\", \"\", \"\"])):\n",
    "            perm_dict = dict([(k, v) for k, v in zip([\"d_{}\".format(i) for i in range(len(perm))], perm)])\n",
    "            \n",
    "            reagents = [\"c1c{d_0}cc{d_1}c2c{d_2}cc{d_3}cc12\".format(**perm_dict), el_in]\n",
    "\n",
    "            perm_dict[\"el\"] = el_acf\n",
    "            product = \"c{el}1c{d_0}cc{d_1}c2c{d_2}cc{d_3}cc12\".format(**perm_dict)\n",
    "\n",
    "            paths = [[ar_el]]\n",
    "\n",
    "            tests.append({\n",
    "                    \"regents\": reagents,\n",
    "                    \"product\": product,\n",
    "                    \"paths\": paths\n",
    "                })"
   ]
  },
  {
   "cell_type": "code",
   "execution_count": 14,
   "metadata": {
    "collapsed": true
   },
   "outputs": [],
   "source": [
    "# EDG in ortho-para. Another symmetry. Active.\n",
    "\n",
    "for el_in, el_ac in zip(el_ins, el_acs):\n",
    "    el_acf = \"({})\".format(el_ac)\n",
    "    \n",
    "    for edg in edgs:\n",
    "        edgf = \"({})\".format(edg)\n",
    "        for perm in set(permutations([edgf, \"\", \"\", \"\"])):\n",
    "            perm_dict = dict([(k, v) for k, v in zip([\"d_{}\".format(i) for i in range(len(perm))], perm)])\n",
    "            \n",
    "            reagents = [\"c{d_0}1cc{d_1}cc2cc{d_2}cc{d_3}c12\".format(**perm_dict), el_in]\n",
    "\n",
    "            perm_dict[\"el\"] = el_acf\n",
    "            product = \"c{d_0}1c{el}c{d_1}cc2cc{d_2}cc{d_3}c12\".format(**perm_dict)\n",
    "\n",
    "            paths = [[ar_el]]\n",
    "\n",
    "            tests.append({\n",
    "                    \"regents\": reagents,\n",
    "                    \"product\": product,\n",
    "                    \"paths\": paths\n",
    "                })"
   ]
  },
  {
   "cell_type": "code",
   "execution_count": 15,
   "metadata": {
    "collapsed": true
   },
   "outputs": [],
   "source": [
    "# EDG in meta- . Inactive\n",
    "\n",
    "for el_in, el_ac in zip(el_ins, el_acs):\n",
    "    el_acf = \"({})\".format(el_ac)\n",
    "    \n",
    "    for edg in edgs:\n",
    "        edgf = \"({})\".format(edg)\n",
    "        for perm in set(permutations([edgf, \"\", \"\"])):\n",
    "            perm_dict = dict([(k, v) for k, v in zip([\"d_{}\".format(i) for i in range(len(perm))], perm)])\n",
    "            reagents = [\"c1cc{d_0}cc2cc{d_1}cc{d_2}c12\".format(**perm_dict), el_in]\n",
    "\n",
    "            perm_dict[\"el\"] = el_acf\n",
    "            product = \"c{el}1cc{d_0}cc2cc{d_1}cc{d_2}c12\".format(**perm_dict)\n",
    "\n",
    "            paths = []\n",
    "\n",
    "            tests.append({\n",
    "                    \"regents\": reagents,\n",
    "                    \"product\": product,\n",
    "                    \"paths\": paths\n",
    "                })"
   ]
  },
  {
   "cell_type": "code",
   "execution_count": 16,
   "metadata": {
    "collapsed": true
   },
   "outputs": [],
   "source": [
    "# EDG in meta- . Another symmetry. Inactive\n",
    "\n",
    "for el_in, el_ac in zip(el_ins, el_acs):\n",
    "    el_acf = \"({})\".format(el_ac)\n",
    "    \n",
    "    for edg in edgs:\n",
    "        edgf = \"({})\".format(edg)\n",
    "        for perm in set(permutations([edgf, \"\", \"\"])):\n",
    "            perm_dict = dict([(k, v) for k, v in zip([\"d_{}\".format(i) for i in range(len(perm))], perm)])\n",
    "            reagents = [\"c1ccc{d_0}c2c{d_1}cc{d_2}cc12\".format(**perm_dict), el_in]\n",
    "\n",
    "            perm_dict[\"el\"] = el_acf\n",
    "            product = \"c1c{el}cc{d_0}c2c{d_1}cc{d_2}cc12\".format(**perm_dict)\n",
    "\n",
    "            paths = []\n",
    "\n",
    "            tests.append({\n",
    "                    \"regents\": reagents,\n",
    "                    \"product\": product,\n",
    "                    \"paths\": paths\n",
    "                })"
   ]
  },
  {
   "cell_type": "code",
   "execution_count": 17,
   "metadata": {
    "collapsed": false
   },
   "outputs": [],
   "source": [
    "# EDG and EWG. Interferring\n",
    "\n",
    "for edg in edgs:\n",
    "    edgf = \"({})\".format(edg)\n",
    "    for ewg in ewgs:\n",
    "        ewgf = \"({})\".format(ewg)\n",
    "        for el_in, el_ac in zip(el_ins, el_acs):\n",
    "            el_acf = \"({})\".format(el_ac)\n",
    "            for perm in set(permutations([edgf, ewgf, \"\", \"\"])):\n",
    "                perm_dict = dict([(k, v) for k, v in zip([\"d_{}\".format(i) for i in range(len(perm))], perm)])\n",
    "                reagents = [\"c1c{d_0}cc{d_1}c2c{d_2}cc{d_3}cc12\".format(**perm_dict), el_in]\n",
    "                perm_dict[\"el\"] = el_acf\n",
    "                product = \"c{el}1c{d_0}cc{d_1}c2c{d_2}cc{d_3}cc12\".format(**perm_dict)\n",
    "                \n",
    "                paths = []\n",
    "                \n",
    "                tests.append({\n",
    "                    \"regents\": reagents,\n",
    "                    \"product\": product,\n",
    "                    \"paths\": paths\n",
    "                })"
   ]
  },
  {
   "cell_type": "code",
   "execution_count": 18,
   "metadata": {
    "collapsed": true
   },
   "outputs": [],
   "source": [
    "# EDG and EWG. Interferring. Another symmetry.\n",
    "\n",
    "for edg in edgs:\n",
    "    edgf = \"({})\".format(edg)\n",
    "    for ewg in ewgs:\n",
    "        ewgf = \"({})\".format(ewg)\n",
    "        for el_in, el_ac in zip(el_ins, el_acs):\n",
    "            el_acf = \"({})\".format(el_ac)\n",
    "            for perm in set(permutations([edgf, ewgf, \"\", \"\"])):\n",
    "                perm_dict = dict([(k, v) for k, v in zip([\"d_{}\".format(i) for i in range(len(perm))], perm)])\n",
    "                reagents = [\"c{d_0}1cc{d_1}cc2cc{d_2}cc{d_3}c12\".format(**perm_dict), el_in]\n",
    "                perm_dict[\"el\"] = el_acf\n",
    "                product = \"c{d_0}1c{el}c{d_1}cc2cc{d_2}cc{d_3}c12\".format(**perm_dict)\n",
    "                \n",
    "                paths = []\n",
    "                \n",
    "                tests.append({\n",
    "                    \"regents\": reagents,\n",
    "                    \"product\": product,\n",
    "                    \"paths\": paths\n",
    "                })"
   ]
  },
  {
   "cell_type": "code",
   "execution_count": 19,
   "metadata": {
    "collapsed": true
   },
   "outputs": [],
   "source": [
    "# EDG and EWG. Non-interferring\n",
    "\n",
    "for edg in edgs:\n",
    "    edgf = \"({})\".format(edg)\n",
    "    for ewg in ewgs:\n",
    "        ewgf = \"({})\".format(ewg)\n",
    "        for el_in, el_ac in zip(el_ins, el_acs):\n",
    "            el_acf = \"({})\".format(el_ac)\n",
    "            for perm in set(permutations([ewgf, el_ac, \"\", \"\"])):\n",
    "                perm_dict = dict([(k, v) for k, v in zip([\"s_%d\" % i for i in range(len(perm))], perm)])\n",
    "                rev_perm_dict = dict([(v, k) for k, v in zip([\"s_%d\" % i for i in range(len(perm))], perm)])\n",
    "                \n",
    "                k_el = rev_perm_dict[el_ac]\n",
    "                perm_dict[k_el] = \"\"\n",
    "                \n",
    "                perm_dict[\"d\"] = edgf\n",
    "                \n",
    "                reagents = [\"c{d}1c{s_0}cc{s_1}c2c{s_2}cc{s_3}cc12\".format(**perm_dict), el_in]\n",
    "                \n",
    "                perm_dict[k_el] = el_acf\n",
    "                product = \"c{d}1c{s_0}cc{s_1}c2c{s_2}cc{s_3}cc12\".format(**perm_dict)\n",
    "                \n",
    "                paths = [[ar_el]]\n",
    "                \n",
    "                tests.append({\n",
    "                    \"regents\": reagents,\n",
    "                    \"product\": product,\n",
    "                    \"paths\": paths\n",
    "                })"
   ]
  },
  {
   "cell_type": "code",
   "execution_count": 20,
   "metadata": {
    "collapsed": true
   },
   "outputs": [],
   "source": [
    "# EDG and EWG. Non-interferring. Another symmetry.\n",
    "\n",
    "for edg in edgs:\n",
    "    edgf = \"({})\".format(edg)\n",
    "    for ewg in ewgs:\n",
    "        ewgf = \"({})\".format(ewg)\n",
    "        for el_in, el_ac in zip(el_ins, el_acs):\n",
    "            el_acf = \"({})\".format(el_ac)\n",
    "            for perm in set(permutations([ewgf, el_ac, \"\", \"\"])):\n",
    "                perm_dict = dict([(k, v) for k, v in zip([\"s_%d\" % i for i in range(len(perm))], perm)])\n",
    "                rev_perm_dict = dict([(v, k) for k, v in zip([\"s_%d\" % i for i in range(len(perm))], perm)])\n",
    "                \n",
    "                k_el = rev_perm_dict[el_ac]\n",
    "                perm_dict[k_el] = \"\"\n",
    "                \n",
    "                perm_dict[\"d\"] = edgf\n",
    "                \n",
    "                reagents = [\"c{s_0}1c{d}c{s_1}cc2cc{s_2}cc{s_3}c12\".format(**perm_dict), el_in]\n",
    "                \n",
    "                perm_dict[k_el] = el_acf\n",
    "                product = \"c{s_0}1c{d}c{s_1}cc2cc{s_2}cc{s_3}c12\".format(**perm_dict)\n",
    "                \n",
    "                paths = [[ar_el]]\n",
    "                \n",
    "                tests.append({\n",
    "                    \"regents\": reagents,\n",
    "                    \"product\": product,\n",
    "                    \"paths\": paths\n",
    "                })"
   ]
  },
  {
   "cell_type": "code",
   "execution_count": 21,
   "metadata": {
    "collapsed": true
   },
   "outputs": [],
   "source": [
    "# EDGs in both meta- and ortho-/para- positions. Active, in several positions.\n",
    "\n",
    "for el_in, el_ac in zip(el_ins, el_acs):\n",
    "    el_acf = \"({})\".format(el_ac)\n",
    "    \n",
    "    for edg1 in edgs:\n",
    "        edg1f = \"({})\".format(edg1)\n",
    "        for edg2 in edgs:\n",
    "            edg2f = \"({})\".format(edg2)\n",
    "            \n",
    "            for perm_meta in set(permutations([edg1f, \"\", \"\"])):\n",
    "                for perm_ortho in set(permutations([edg2f, \"\", \"\", \"\"])):\n",
    "                    perm = dict([(k, v) for k, v in zip([\"d_m_{}\".format(i) for i in range(len(perm_meta))], perm_meta)])\n",
    "                    perm.update(dict([(k, v) for k, v in zip([\"d_o_{}\".format(i) for i in range(len(perm_ortho))], perm_ortho)]))\n",
    "                    \n",
    "                    reagents = [\"c1c{d_o_0}c{d_m_0}c{d_o_1}c2c{d_o_2}c{d_m_1}c{d_o_3}c{d_m_2}c12\".format(**perm), el_in]\n",
    "                    \n",
    "                    perm[\"el\"] = el_acf\n",
    "                    product = \"c{el}1c{d_o_0}c{d_m_0}c{d_o_1}c2c{d_o_2}c{d_m_1}c{d_o_3}c{d_m_2}c12\".format(**perm)\n",
    "                    \n",
    "                    paths = []\n",
    "                    \n",
    "                    tests.append({\n",
    "                        \"regents\": reagents,\n",
    "                        \"product\": product,\n",
    "                        \"paths\": paths\n",
    "                    })"
   ]
  },
  {
   "cell_type": "code",
   "execution_count": 22,
   "metadata": {
    "collapsed": true
   },
   "outputs": [],
   "source": [
    "# EDGs in both meta- and ortho-/para- positions. Active, in several positions. Another symmetry.\n",
    "\n",
    "for el_in, el_ac in zip(el_ins, el_acs):\n",
    "    el_acf = \"({})\".format(el_ac)\n",
    "    \n",
    "    for edg1 in edgs:\n",
    "        edg1f = \"({})\".format(edg1)\n",
    "        for edg2 in edgs:\n",
    "            edg2f = \"({})\".format(edg2)\n",
    "            \n",
    "            for perm_meta in set(permutations([edg1f, \"\", \"\"])):\n",
    "                for perm_ortho in set(permutations([edg2f, \"\", \"\", \"\"])):\n",
    "                    perm = dict([(k, v) for k, v in zip([\"d_m_{}\".format(i) for i in range(len(perm_meta))], perm_meta)])\n",
    "                    perm.update(dict([(k, v) for k, v in zip([\"d_o_{}\".format(i) for i in range(len(perm_ortho))], perm_ortho)]))\n",
    "                    \n",
    "                    reagents = [\"c{d_o_0}1cc{d_o_1}c{d_m_0}c2c{d_m_1}c{d_o_2}c{d_m_2}c{d_o_3}c12\".format(**perm), el_in]\n",
    "                    \n",
    "                    perm[\"el\"] = el_acf\n",
    "                    product = \"c{d_o_0}1c{el}c{d_o_1}c{d_m_0}c2c{d_m_1}c{d_o_2}c{d_m_2}c{d_o_3}c12\".format(**perm)\n",
    "                    \n",
    "                    paths = []\n",
    "                    \n",
    "                    tests.append({\n",
    "                        \"regents\": reagents,\n",
    "                        \"product\": product,\n",
    "                        \"paths\": paths\n",
    "                    })"
   ]
  },
  {
   "cell_type": "code",
   "execution_count": 24,
   "metadata": {
    "collapsed": false
   },
   "outputs": [],
   "source": [
    "json.dump(tests, open(\"../cases/electro_carbo_aro.json\", \"w\"))"
   ]
  }
 ],
 "metadata": {
  "anaconda-cloud": {},
  "kernelspec": {
   "display_name": "Python [conda root]",
   "language": "python",
   "name": "conda-root-py"
  },
  "language_info": {
   "codemirror_mode": {
    "name": "ipython",
    "version": 3
   },
   "file_extension": ".py",
   "mimetype": "text/x-python",
   "name": "python",
   "nbconvert_exporter": "python",
   "pygments_lexer": "ipython3",
   "version": "3.5.2"
  }
 },
 "nbformat": 4,
 "nbformat_minor": 1
}
